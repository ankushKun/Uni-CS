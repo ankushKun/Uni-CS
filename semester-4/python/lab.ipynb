{
 "cells": [
  {
   "cell_type": "code",
   "execution_count": 7,
   "id": "fa3de58b-580c-41ee-885b-09b0ebebf5d6",
   "metadata": {},
   "outputs": [
    {
     "name": "stdout",
     "output_type": "stream",
     "text": [
      "ok\n"
     ]
    }
   ],
   "source": [
    "print(\"ok\")"
   ]
  },
  {
   "cell_type": "code",
   "execution_count": 3,
   "id": "e1549b00-2c7e-4edf-a2d9-b79fca2f99ee",
   "metadata": {},
   "outputs": [
    {
     "name": "stdout",
     "output_type": "stream",
     "text": [
      "\n"
     ]
    }
   ],
   "source": [
    "print()"
   ]
  },
  {
   "cell_type": "code",
   "execution_count": 10,
   "id": "1c812e52-fedc-4999-8972-2797e20f45f1",
   "metadata": {},
   "outputs": [],
   "source": [
    "# a\n",
    "# b \n",
    "# c"
   ]
  },
  {
   "cell_type": "code",
   "execution_count": 9,
   "id": "8a465d28-16cc-4a5e-a2ac-38c66c6c9888",
   "metadata": {},
   "outputs": [
    {
     "name": "stdout",
     "output_type": "stream",
     "text": [
      "docstring\n"
     ]
    }
   ],
   "source": [
    "\"\"\"\n",
    "\n",
    "aaaaaaaaa\n",
    "\n",
    "\"\"\"\n",
    "print(\"docstring\")"
   ]
  },
  {
   "cell_type": "code",
   "execution_count": 11,
   "id": "1a6bde93-a84d-40f8-8a2a-4a6f8e6480ea",
   "metadata": {},
   "outputs": [
    {
     "name": "stdout",
     "output_type": "stream",
     "text": [
      "2.1\n"
     ]
    }
   ],
   "source": [
    "a=1\n",
    "b=1.1\n",
    "c=\"1.11\"\n",
    "d=True\n",
    "e=a+b\n",
    "print(e)"
   ]
  },
  {
   "cell_type": "code",
   "execution_count": 14,
   "id": "4f181787-a609-407d-b0a2-9cb6be820afc",
   "metadata": {},
   "outputs": [
    {
     "data": {
      "text/plain": [
       "(int, float, str, bool, float)"
      ]
     },
     "execution_count": 14,
     "metadata": {},
     "output_type": "execute_result"
    }
   ],
   "source": [
    "type(a), type(b), type(c), type(d), type(e)"
   ]
  },
  {
   "cell_type": "code",
   "execution_count": 16,
   "id": "a74d0541-2ed2-4689-9ef8-4168a96b4099",
   "metadata": {},
   "outputs": [
    {
     "name": "stdin",
     "output_type": "stream",
     "text": [
      "naam daalo:  Ankush\n"
     ]
    },
    {
     "data": {
      "text/plain": [
       "'Ankush'"
      ]
     },
     "execution_count": 16,
     "metadata": {},
     "output_type": "execute_result"
    }
   ],
   "source": [
    "name = input(\"naam daalo: \")\n",
    "name"
   ]
  },
  {
   "cell_type": "code",
   "execution_count": 17,
   "id": "b2dc4d3f-4658-4491-86f7-6e866de6620f",
   "metadata": {},
   "outputs": [
    {
     "name": "stdin",
     "output_type": "stream",
     "text": [
      "number daalo:  123\n"
     ]
    },
    {
     "data": {
      "text/plain": [
       "str"
      ]
     },
     "execution_count": 17,
     "metadata": {},
     "output_type": "execute_result"
    }
   ],
   "source": [
    "num = input(\"number daalo: \")\n",
    "type(num)"
   ]
  },
  {
   "cell_type": "code",
   "execution_count": 18,
   "id": "bfe70b02-4cde-4ac4-97ad-4aed94284d58",
   "metadata": {},
   "outputs": [
    {
     "data": {
      "text/plain": [
       "123"
      ]
     },
     "execution_count": 18,
     "metadata": {},
     "output_type": "execute_result"
    }
   ],
   "source": [
    "int(num)"
   ]
  },
  {
   "cell_type": "code",
   "execution_count": 20,
   "id": "72c576a8-2310-4f3b-b1c9-cc74649a88b9",
   "metadata": {},
   "outputs": [
    {
     "data": {
      "text/plain": [
       "'aaaaabbbbb'"
      ]
     },
     "execution_count": 20,
     "metadata": {},
     "output_type": "execute_result"
    }
   ],
   "source": [
    "astr = \"a\"*5\n",
    "bstr = \"b\"*5\n",
    "constr = astr + bstr\n",
    "constr"
   ]
  },
  {
   "cell_type": "code",
   "execution_count": 21,
   "id": "a0cf5d57-5c79-4c2d-aca4-9bf271cf900f",
   "metadata": {},
   "outputs": [
    {
     "name": "stdin",
     "output_type": "stream",
     "text": [
      "Name of the city you grew up in:  kolkata\n",
      "Name of your pet Rusty\n"
     ]
    },
    {
     "data": {
      "text/plain": [
       "'your brand name could be kolkataRusty'"
      ]
     },
     "execution_count": 21,
     "metadata": {},
     "output_type": "execute_result"
    }
   ],
   "source": [
    "city = input(\"Name of the city you grew up in: \")\n",
    "pet = input(\"Name of your pet\")\n",
    "\n",
    "f\"your brand name could be {city}{pet}\""
   ]
  },
  {
   "cell_type": "code",
   "execution_count": 23,
   "id": "9216da3b-48a7-4d38-b698-1f0de2c2e5a5",
   "metadata": {},
   "outputs": [
    {
     "name": "stdin",
     "output_type": "stream",
     "text": [
      "text 1:  aaaaaa\n",
      "text 2:  AAAAAA\n"
     ]
    },
    {
     "name": "stdout",
     "output_type": "stream",
     "text": [
      "aaaaaa AAAAAA\n",
      "AAAAAA aaaaaa\n"
     ]
    }
   ],
   "source": [
    "a = input(\"text 1: \")\n",
    "b = input(\"text 2: \")\n",
    "print(a,b)\n",
    "a,b = b,a\n",
    "print(a,b)"
   ]
  },
  {
   "cell_type": "code",
   "execution_count": 8,
   "id": "9d6ebf47-7a27-4706-9399-6716c6df81b2",
   "metadata": {},
   "outputs": [
    {
     "data": {
      "text/plain": [
       "3628800"
      ]
     },
     "execution_count": 8,
     "metadata": {},
     "output_type": "execute_result"
    }
   ],
   "source": [
    "import math\n",
    "math.factorial(10)"
   ]
  },
  {
   "cell_type": "code",
   "execution_count": 4,
   "id": "2131a9bc-da21-456e-9264-835a9764c017",
   "metadata": {},
   "outputs": [
    {
     "name": "stdout",
     "output_type": "stream",
     "text": [
      "aaaaaa\n",
      "\tbbbbbbb\n"
     ]
    }
   ],
   "source": [
    "print(\"aaaaaa\\n\\tbbbbbbb\")"
   ]
  },
  {
   "cell_type": "code",
   "execution_count": 1,
   "id": "5c510eb5-90cd-43c1-b0c8-f5eb647d1233",
   "metadata": {},
   "outputs": [
    {
     "name": "stdout",
     "output_type": "stream",
     "text": [
      "Defaulting to user installation because normal site-packages is not writeable\n",
      "Collecting django\n",
      "  Downloading Django-5.0.1-py3-none-any.whl (8.1 MB)\n",
      "\u001b[2K     \u001b[38;2;114;156;31m━━━━━━━━━━━━━━━━━━━━━━━━━━━━━━━━━━━━━━━━\u001b[0m \u001b[32m8.1/8.1 MB\u001b[0m \u001b[31m7.7 MB/s\u001b[0m eta \u001b[36m0:00:00\u001b[0mm eta \u001b[36m0:00:01\u001b[0m0:01\u001b[0m:01\u001b[0m\n",
      "\u001b[?25hCollecting asgiref<4,>=3.7.0\n",
      "  Downloading asgiref-3.7.2-py3-none-any.whl (24 kB)\n",
      "Collecting sqlparse>=0.3.1\n",
      "  Downloading sqlparse-0.4.4-py3-none-any.whl (41 kB)\n",
      "\u001b[2K     \u001b[38;2;114;156;31m━━━━━━━━━━━━━━━━━━━━━━━━━━━━━━━━━━━━━━━━\u001b[0m \u001b[32m41.2/41.2 KB\u001b[0m \u001b[31m11.9 MB/s\u001b[0m eta \u001b[36m0:00:00\u001b[0m\n",
      "\u001b[?25hRequirement already satisfied: typing-extensions>=4 in /home/ankush/.local/lib/python3.10/site-packages (from asgiref<4,>=3.7.0->django) (4.9.0)\n",
      "Installing collected packages: sqlparse, asgiref, django\n",
      "Successfully installed asgiref-3.7.2 django-5.0.1 sqlparse-0.4.4\n"
     ]
    }
   ],
   "source": [
    "!pip install django"
   ]
  },
  {
   "cell_type": "code",
   "execution_count": 12,
   "id": "510cd69d-84e7-4ad8-b882-2ac18974d8ba",
   "metadata": {},
   "outputs": [
    {
     "data": {
      "text/plain": [
       "2"
      ]
     },
     "execution_count": 12,
     "metadata": {},
     "output_type": "execute_result"
    }
   ],
   "source": [
    "1+True"
   ]
  },
  {
   "cell_type": "code",
   "execution_count": 13,
   "id": "1d647c08-3b24-4e57-91e6-49b0655381cb",
   "metadata": {},
   "outputs": [
    {
     "data": {
      "text/plain": [
       "(6+0j)"
      ]
     },
     "execution_count": 13,
     "metadata": {},
     "output_type": "execute_result"
    }
   ],
   "source": [
    "1+complex(5)"
   ]
  },
  {
   "cell_type": "code",
   "execution_count": 14,
   "id": "dbccf288-504f-4815-b639-9992ca8eb4ca",
   "metadata": {},
   "outputs": [
    {
     "data": {
      "text/plain": [
       "4"
      ]
     },
     "execution_count": 14,
     "metadata": {},
     "output_type": "execute_result"
    }
   ],
   "source": [
    "5 - 1"
   ]
  },
  {
   "cell_type": "code",
   "execution_count": 11,
   "id": "2797ddfd-dd00-4476-8d6f-539c52ac9a50",
   "metadata": {},
   "outputs": [
    {
     "data": {
      "text/plain": [
       "25"
      ]
     },
     "execution_count": 11,
     "metadata": {},
     "output_type": "execute_result"
    }
   ],
   "source": [
    "5**2"
   ]
  },
  {
   "cell_type": "code",
   "execution_count": 20,
   "id": "e8c23709-71ec-4a28-b748-26901c221f76",
   "metadata": {},
   "outputs": [
    {
     "data": {
      "text/plain": [
       "(True, False, True)"
      ]
     },
     "execution_count": 20,
     "metadata": {},
     "output_type": "execute_result"
    }
   ],
   "source": [
    "1==1, 1==5, 1!=5"
   ]
  },
  {
   "cell_type": "code",
   "execution_count": 21,
   "id": "f908c140-9e0a-4d1a-81bb-3dd1045ebb8a",
   "metadata": {},
   "outputs": [
    {
     "data": {
      "text/plain": [
       "(97, '2')"
      ]
     },
     "execution_count": 21,
     "metadata": {},
     "output_type": "execute_result"
    }
   ],
   "source": [
    "ord(\"a\"), chr(50)"
   ]
  },
  {
   "cell_type": "code",
   "execution_count": 24,
   "id": "f038bd26-f9bd-4a20-944e-d2c7708aba7b",
   "metadata": {},
   "outputs": [
    {
     "name": "stdin",
     "output_type": "stream",
     "text": [
      "username:  Ankush\n",
      "password:  aaaaaaaa\n"
     ]
    },
    {
     "name": "stdout",
     "output_type": "stream",
     "text": [
      "🤡\n"
     ]
    }
   ],
   "source": [
    "u = input(\"username: \")\n",
    "p = input(\"password: \")\n",
    "\n",
    "if(u==\"Ankush\" and p==\"1234\"):\n",
    "    print(\"ok\")\n",
    "else:\n",
    "    print(\"🤡\")"
   ]
  }
 ],
 "metadata": {
  "kernelspec": {
   "display_name": "Python 3 (ipykernel)",
   "language": "python",
   "name": "python3"
  },
  "language_info": {
   "codemirror_mode": {
    "name": "ipython",
    "version": 3
   },
   "file_extension": ".py",
   "mimetype": "text/x-python",
   "name": "python",
   "nbconvert_exporter": "python",
   "pygments_lexer": "ipython3",
   "version": "3.10.12"
  }
 },
 "nbformat": 4,
 "nbformat_minor": 5
}
