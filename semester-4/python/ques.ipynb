{
 "cells": [
  {
   "cell_type": "markdown",
   "id": "23e71c0e-4524-49b7-ba38-048b3d534751",
   "metadata": {},
   "source": [
    "# Nested for loop\n",
    "Blue\n",
    "B\n",
    "l\n",
    "u\n",
    "e\n",
    "..."
   ]
  },
  {
   "cell_type": "code",
   "execution_count": 1,
   "id": "db8ec7db-ac41-4e30-9346-414112c89929",
   "metadata": {},
   "outputs": [
    {
     "name": "stdout",
     "output_type": "stream",
     "text": [
      "Blue\n",
      "B\n",
      "l\n",
      "u\n",
      "e\n",
      "Red\n",
      "R\n",
      "e\n",
      "d\n",
      "Pink\n",
      "P\n",
      "i\n",
      "n\n",
      "k\n"
     ]
    }
   ],
   "source": [
    "                            words = [\"Blue\", \"Red\", \"Pink\"]\n",
    "for word in words:\n",
    "    print(word)\n",
    "    for letter in word:\n",
    "        print(letter)"
   ]
  },
  {
   "cell_type": "markdown",
   "id": "101e19ef-90e5-4e9e-9b63-421fed2064b3",
   "metadata": {},
   "source": [
    "# greatest"
   ]
  },
  {
   "cell_type": "code",
   "execution_count": 3,
   "id": "02ebfed2-6bab-411d-83fd-999c85957876",
   "metadata": {},
   "outputs": [
    {
     "name": "stdin",
     "output_type": "stream",
     "text": [
      "Enter nunbers: (space seperated) 1 2 3 4 5\n"
     ]
    },
    {
     "data": {
      "text/plain": [
       "5"
      ]
     },
     "execution_count": 3,
     "metadata": {},
     "output_type": "execute_result"
    }
   ],
   "source": [
    "inp = input(\"Enter nunbers: (space seperated)\")\n",
    "inp = inp.split(\" \")\n",
    "inp = list(map(int, inp))\n",
    "max(inp)"
   ]
  },
  {
   "cell_type": "markdown",
   "id": "cad41e20-81b6-474c-ba44-b147aad4e899",
   "metadata": {},
   "source": [
    "# name exists in list"
   ]
  },
  {
   "cell_type": "code",
   "execution_count": 4,
   "id": "f19799b0-f00d-48ff-918f-b72dceac5202",
   "metadata": {},
   "outputs": [
    {
     "name": "stdin",
     "output_type": "stream",
     "text": [
      "Enter a name weeblet\n"
     ]
    },
    {
     "name": "stdout",
     "output_type": "stream",
     "text": [
      "Name exists\n"
     ]
    }
   ],
   "source": [
    "li = [\"weeblet\", \"neko\", \"xyz\"]\n",
    "inp = input(\"Enter a name\")\n",
    "if inp.lower() in li:\n",
    "    print(\"Name exists\")"
   ]
  },
  {
   "cell_type": "markdown",
   "id": "96acc3a5-743d-497a-a5be-4aa587ae29d9",
   "metadata": {},
   "source": [
    "# grade"
   ]
  },
  {
   "cell_type": "code",
   "execution_count": 5,
   "id": "f677fae3-0c7f-47d9-84fe-8c86a026451c",
   "metadata": {},
   "outputs": [
    {
     "name": "stdin",
     "output_type": "stream",
     "text": [
      "Enter marks 78\n"
     ]
    },
    {
     "name": "stdout",
     "output_type": "stream",
     "text": [
      "B\n"
     ]
    }
   ],
   "source": [
    "m = int(input(\"Enter marks\"))\n",
    "if m>90 and m<=100:\n",
    "    print(\"Ex\")\n",
    "elif m>80 and m<=90:\n",
    "    print(\"A\")\n",
    "elif m>70 and m<=80:\n",
    "    print(\"B\")\n",
    "elif m>60 and m<=70:\n",
    "    print(\"C\")\n",
    "elif m>50 and m<=60:\n",
    "    print(\"D\")\n",
    "elif m<=50:\n",
    "    print(\"F\")"
   ]
  },
  {
   "cell_type": "markdown",
   "id": "93bb5810-3d20-450c-b377-a2c79e8fbe1e",
   "metadata": {},
   "source": [
    "# spam"
   ]
  },
  {
   "cell_type": "code",
   "execution_count": 7,
   "id": "ff9ada5a-586e-419e-bd1e-5a7fba070e0a",
   "metadata": {},
   "outputs": [
    {
     "name": "stdin",
     "output_type": "stream",
     "text": [
      "enter a text free money easy money\n"
     ]
    },
    {
     "name": "stdout",
     "output_type": "stream",
     "text": [
      "Text might be a spam\n"
     ]
    }
   ],
   "source": [
    "spams = [\"click this\", \"buy this\", \"easy money\", \"subscribe this\"]\n",
    "inp = input(\"enter a text\")\n",
    "fl = False\n",
    "for spam in spams:\n",
    "    if spam in inp:\n",
    "        print(\"Text might be a spam\")\n",
    "        fl = True\n",
    "        break\n",
    "if not fl:\n",
    "    print(\"Text might not be a spam\")"
   ]
  },
  {
   "cell_type": "code",
   "execution_count": 1,
   "id": "8e57c6ab-8755-4e47-a934-8e10726c05e4",
   "metadata": {},
   "outputs": [
    {
     "name": "stdin",
     "output_type": "stream",
     "text": [
      "enter a number 24\n"
     ]
    },
    {
     "name": "stdout",
     "output_type": "stream",
     "text": [
      "a > 10\n",
      "a < 100\n",
      "even num\n"
     ]
    }
   ],
   "source": [
    "a = int(input(\"enter a number\"))\n",
    "if a >10:\n",
    "    print(\"a > 10\")\n",
    "if a<100:\n",
    "    print(\"a < 100\")\n",
    "if a % 2 ==0:\n",
    "    print(\"even num\")\n",
    "else:\n",
    "    print(\"odd num\")"
   ]
  },
  {
   "cell_type": "code",
   "execution_count": 8,
   "id": "c9d6eb71-54fd-4597-abd9-0746933846c3",
   "metadata": {},
   "outputs": [
    {
     "name": "stdout",
     "output_type": "stream",
     "text": [
      "('1', 2, True)\n",
      "1\n",
      "2\n",
      "True\n",
      "(1, 2, 3, 4, 5)\n",
      "1\n",
      "2\n",
      "3\n",
      "4\n",
      "5\n"
     ]
    }
   ],
   "source": [
    "dictionary = {\n",
    "    \"key\": \"value\"\n",
    "    \"a\":50\n",
    "}\n",
    "\n",
    "set_ = {1,2,3,4}\n",
    "\n",
    "def multiple(*args):\n",
    "    print(args)\n",
    "    for arg in args:\n",
    "        print(arg)\n",
    "\n",
    "multiple(\"1\", 2, True)\n",
    "multiple(1,2,3,4,5)"
   ]
  },
  {
   "cell_type": "code",
   "execution_count": 17,
   "id": "624adbc2-0593-46d7-96d3-664ca01a585f",
   "metadata": {},
   "outputs": [
    {
     "name": "stdout",
     "output_type": "stream",
     "text": [
      "97\n",
      "a\n"
     ]
    }
   ],
   "source": [
    "\n",
    "ascii = \"a\"\n",
    "uni = ord(ascii)\n",
    "print(uni)\n",
    "\n",
    "print(chr(uni))"
   ]
  }
 ],
 "metadata": {
  "kernelspec": {
   "display_name": "Python 3 (ipykernel)",
   "language": "python",
   "name": "python3"
  },
  "language_info": {
   "codemirror_mode": {
    "name": "ipython",
    "version": 3
   },
   "file_extension": ".py",
   "mimetype": "text/x-python",
   "name": "python",
   "nbconvert_exporter": "python",
   "pygments_lexer": "ipython3",
   "version": "3.10.12"
  }
 },
 "nbformat": 4,
 "nbformat_minor": 5
}
